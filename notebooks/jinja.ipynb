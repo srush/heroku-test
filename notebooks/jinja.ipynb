{
 "metadata": {
  "name": ""
 },
 "nbformat": 3,
 "nbformat_minor": 0,
 "worksheets": [
  {
   "cells": [
    {
     "cell_type": "heading",
     "level": 1,
     "source": [
      "Tutorial 3: Jinja Tutorial"
     ]
    },
    {
     "cell_type": "code",
     "collapsed": false,
     "input": [
      "from IPython.display import HTML"
     ],
     "language": "python",
     "outputs": [],
     "prompt_number": 31
    },
    {
     "cell_type": "markdown",
     "source": [
      "So far we have talked about making a webserver and a database; however, by them selves these concepts are pretty far off. One can serve html pages and the other just manages tables of data. Things become more interesting when you put them together. "
     ]
    },
    {
     "cell_type": "markdown",
     "source": [
      "Let's say I want to get tickets to an Eagles game. I might go to \n",
      "\n",
      "http://www.stubhub.com/chicago-bears-tickets/chicago-bears-chicago-soldier-field-8-8-2014-9032693/\n"
     ]
    },
    {
     "cell_type": "code",
     "collapsed": false,
     "input": [
      "HTML('<iframe src=\"http://www.stubhub.com/chicago-bears-tickets/chicago-bears-chicago-soldier-field-8-8-2014-9032693/\" width=800 height=350></iframe>')"
     ],
     "language": "python",
     "outputs": [
      {
       "html": [
        "<iframe src=\"http://www.stubhub.com/chicago-bears-tickets/chicago-bears-chicago-soldier-field-8-8-2014-9032693/\" width=800 height=350></iframe>"
       ],
       "output_type": "pyout",
       "prompt_number": 34,
       "text": [
        "<IPython.core.display.HTML at 0x1d75b50>"
       ]
      }
     ],
     "prompt_number": 34
    },
    {
     "cell_type": "markdown",
     "source": [
      "Behind the scenes, stubhub has a database with all the Eagles-Bears tickets for that data. When you visit the site, their server makes a query to the database to fetch all of those tickets, and then \"renders\" the html page that is sent back to you. For instance if you look at the html on the right hand bar of the page you see a table. The table is an html element that roughly looks like this  (using magic html in ipython)."
     ]
    },
    {
     "cell_type": "code",
     "collapsed": false,
     "input": [
      "%%html\n",
      "<table>\n",
      "<tr><th> Location </th>   <th> Price</th></tr>\n",
      "<tr><td> Grandstand Left </td> <td> 50 .00 </td> </tr>\n",
      "<tr><td> Grandstand Right </td> <td> 60 .00 </td> </tr>\n",
      "<tr><td> Grandstand Right </td> <td> 20 .00 </td> </tr>\n",
      "<tr><td> Grandstand Right </td> <td> 20 .00 </td> </tr>\n",
      "</table>"
     ],
     "language": "python",
     "outputs": [
      {
       "html": [
        "<table>\n",
        "<tr><th> Location </th>   <th> Price</th></tr>\n",
        "<tr><td> Grandstand Left </td> <td> 50 .00 </td> </tr>\n",
        "<tr><td> Grandstand Right </td> <td> 60 .00 </td> </tr>\n",
        "<tr><td> Grandstand Right </td> <td> 20 .00 </td> </tr>\n",
        "<tr><td> Grandstand Right </td> <td> 20 .00 </td> </tr>\n",
        "</table>"
       ],
       "output_type": "display_data",
       "text": [
        "<IPython.core.display.HTML at 0x3755390>"
       ]
      }
     ],
     "prompt_number": 35
    },
    {
     "cell_type": "markdown",
     "source": [
      "Note that in a way, this table is just a reformatting of something that you would get out a database. In fact you need to get this out of the database since the tickets might be being bought and sold as you go. "
     ]
    },
    {
     "cell_type": "markdown",
     "source": [
      "So let's talk about you to do this for our touring database. First I'll assume that we have a set of tour dates already. "
     ]
    },
    {
     "cell_type": "code",
     "collapsed": false,
     "input": [
      "gigs = [{\"id\":1, \"data\": \"11/3/2014\",   \"location\" : \"Minnesota\",   \"venue\" : \"The Prairie House\"},\n",
      "     {\"id\": 2, \"data\": \"11/15/2014\",  \"location\":\"Arkansas\",    \"venue\": \"The Hope Hotel\"}]\n",
      "print gigs"
     ],
     "language": "python",
     "outputs": [
      {
       "output_type": "stream",
       "stream": "stdout",
       "text": [
        "[{'venue': 'The Prairie House', 'data': '11/3/2014', 'id': 1, 'location': 'Minnesota'}, {'venue': 'The Hope Hotel', 'data': '11/15/2014', 'id': 2, 'location': 'Arkansas'}]\n"
       ]
      }
     ],
     "prompt_number": 5
    },
    {
     "cell_type": "markdown",
     "source": [
      "This is a just of list of dictionaries which I imagine they covered in python the hard way. Each dictionary an key-element pair corresponding to a row in the database (you can get data in this form using http://initd.org/psycopg/docs/extras.html). So if you want to print each location, you would run  "
     ]
    },
    {
     "cell_type": "code",
     "collapsed": false,
     "input": [
      "for gig in gigs:\n",
      "    print gig[\"location\"]"
     ],
     "language": "python",
     "outputs": [
      {
       "output_type": "stream",
       "stream": "stdout",
       "text": [
        "Minnesota\n",
        "Arkansas\n"
       ]
      }
     ],
     "prompt_number": 6
    },
    {
     "cell_type": "markdown",
     "source": [
      "You might even add information to the layout"
     ]
    },
    {
     "cell_type": "code",
     "collapsed": false,
     "input": [
      "viewing_gigs = gigs\n",
      "for gig in viewing_gigs:\n",
      "    if gig[\"location\"] == \"Arkansas\": gig[\"area\"]=\"south\"\n",
      "    if gig[\"location\"] == \"Minnesota\": gig[\"area\"]=\"north\"   \n",
      "viewing_gigs"
     ],
     "language": "python",
     "outputs": [
      {
       "output_type": "pyout",
       "prompt_number": 9,
       "text": [
        "[{'area': 'north',\n",
        "  'data': '11/3/2014',\n",
        "  'id': 1,\n",
        "  'location': 'Minnesota',\n",
        "  'venue': 'The Prairie House'},\n",
        " {'area': 'south',\n",
        "  'data': '11/15/2014',\n",
        "  'id': 2,\n",
        "  'location': 'Arkansas',\n",
        "  'venue': 'The Hope Hotel'}]"
       ]
      }
     ],
     "prompt_number": 9
    },
    {
     "cell_type": "markdown",
     "source": [
      "Now here's where the new stuff comes in. It has become common practice to use a templating library to actually convert this data to html. This is actually writing to a different file, but I'm including it in the notebook for convenience. "
     ]
    },
    {
     "cell_type": "code",
     "collapsed": false,
     "input": [
      "%%writefile table.html.tmpl\n",
      "<html>\n",
      "<body>\n",
      "<table>\n",
      "<tr><th> Location </th>   <th> Venue</th> <th> Area</th</tr>\n",
      "{% for gig in gigs %}\n",
      "<tr><td>{{gig.location}}</td> <td> {{gig.venue}}</td> <td>{{gig.area}}</td></tr>\n",
      "{% endfor %}\n",
      "</table>\n",
      "</body>\n",
      "</html>"
     ],
     "language": "python",
     "outputs": [
      {
       "output_type": "stream",
       "stream": "stdout",
       "text": [
        "Overwriting table.html.tmpl\n"
       ]
      }
     ],
     "prompt_number": 19
    },
    {
     "cell_type": "markdown",
     "source": [
      "Basically, the template is just a simple `for` loop that iterates over the data given to it.  To use this template we have to tell jinja where to find it and to give it some data to \"render\". This first step is just boilerplate I copied from the jinja2 documentation. You should look up \"flask jinja2\" to see how to set this up for your server. "
     ]
    },
    {
     "cell_type": "code",
     "collapsed": false,
     "input": [
      "from jinja2 import Environment, FileSystemLoader\n",
      "env = Environment(loader=FileSystemLoader(''))\n",
      "template = env.get_template(\"table.html.tmpl\")"
     ],
     "language": "python",
     "outputs": [],
     "prompt_number": 21
    },
    {
     "cell_type": "markdown",
     "source": [
      "One you have the template loaded you simply give it the data to show in the form of a python dictionary, i.e. "
     ]
    },
    {
     "cell_type": "code",
     "collapsed": false,
     "input": [
      "jinja_data = {\"gigs\" : viewing_gigs}\n",
      "output_html = template.render(jinja_data)"
     ],
     "language": "python",
     "outputs": [],
     "prompt_number": 23
    },
    {
     "cell_type": "code",
     "collapsed": false,
     "input": [
      "HTML(output_html)"
     ],
     "language": "python",
     "outputs": [
      {
       "html": [
        "<html>\n",
        "<body>\n",
        "<table>\n",
        "<tr><th> Location </th>   <th> Venue</th> <th> Area</th</tr>\n",
        "\n",
        "<tr><td>Minnesota</td> <td> The Prairie House</td> <td>north</td></tr>\n",
        "\n",
        "<tr><td>Arkansas</td> <td> The Hope Hotel</td> <td>south</td></tr>\n",
        "\n",
        "</table>\n",
        "</body>\n",
        "</html>"
       ],
       "output_type": "pyout",
       "prompt_number": 33,
       "text": [
        "<IPython.core.display.HTML at 0x3756cd0>"
       ]
      }
     ],
     "prompt_number": 33
    },
    {
     "cell_type": "markdown",
     "source": [
      "So the project for this tutorial is to put things together. You should make a website with the following parts. \n",
      "\n",
      "1) It should have a jinja template that makes a table. First pass you should have the table just be a list of data you hardcode in the .py file. \n",
      "\n",
      "2) Next you should hook that same template up to a database. Have the server return a page where the table is filled in based on something from the data base itself.\n",
      "\n",
      "3) Finally, try to make the page a bit prettier. You can play around with the html file and add css to make it look less like the ugly default style. \n",
      "\n",
      "And please don't hesitate to ask questions if you run into issues. "
     ]
    }
   ]
  }
 ]
}