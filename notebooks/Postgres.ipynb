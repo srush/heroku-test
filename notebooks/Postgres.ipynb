{
 "metadata": {
  "name": ""
 },
 "nbformat": 3,
 "nbformat_minor": 0,
 "worksheets": [
  {
   "cells": [
    {
     "cell_type": "code",
     "collapsed": false,
     "input": [
      "%%bash --out output\n",
      "cd ../\n",
      "heroku pg:wait\n",
      "heroku config | grep HEROKU_POSTGRESQL"
     ],
     "language": "python",
     "metadata": {},
     "outputs": [],
     "prompt_number": 35
    },
    {
     "cell_type": "code",
     "collapsed": false,
     "input": [
      "import os\n",
      "import psycopg2\n",
      "import urlparse\n",
      "url = output.split()[1]\n",
      "urlparse.uses_netloc.append(\"postgres\")\n",
      "url = urlparse.urlparse(url)\n",
      "\n",
      "conn = psycopg2.connect(\n",
      "    database=url.path[1:],\n",
      "    user=url.username,\n",
      "    password=url.password,\n",
      "    host=url.hostname,\n",
      "    port=url.port\n",
      ")\n",
      "conn"
     ],
     "language": "python",
     "metadata": {},
     "outputs": [
      {
       "metadata": {},
       "output_type": "pyout",
       "prompt_number": 51,
       "text": [
        "<connection object at 0x3869e00; dsn: 'dbname=d3tujgaqua8kdr user=dwugxoikomzyoi password=xxxxxxxxxxxxxxxxxxxxxxxxxx host=ec2-54-197-227-238.compute-1.amazonaws.com port=5432', closed: 0>"
       ]
      }
     ],
     "prompt_number": 51
    },
    {
     "cell_type": "code",
     "collapsed": false,
     "input": [
      "conn.rollback()"
     ],
     "language": "python",
     "metadata": {},
     "outputs": [],
     "prompt_number": 63
    },
    {
     "cell_type": "code",
     "collapsed": false,
     "input": [
      "c = conn.cursor()\n",
      "c.execute(\"CREATE TABLE gigs (id int PRIMARY KEY, date DATE, city VARCHAR(100), venue VARCHAR(500))\")"
     ],
     "language": "python",
     "metadata": {},
     "outputs": [],
     "prompt_number": 64
    },
    {
     "cell_type": "code",
     "collapsed": false,
     "input": [
      "c.execute(\"INSERT INTO gigs VALUES (1, '11/3/2014', 'Wichita', 'Tornado Palace')\")"
     ],
     "language": "python",
     "metadata": {},
     "outputs": [],
     "prompt_number": 65
    },
    {
     "cell_type": "code",
     "collapsed": false,
     "input": [
      "c.execute(\"SELECT * FROM gigs\")\n",
      "rows = c.fetchall()\n",
      "list(rows)"
     ],
     "language": "python",
     "metadata": {},
     "outputs": [
      {
       "metadata": {},
       "output_type": "pyout",
       "prompt_number": 66,
       "text": [
        "[(1, datetime.date(2014, 11, 3), 'Wichita', 'Tornado Palace')]"
       ]
      }
     ],
     "prompt_number": 66
    },
    {
     "cell_type": "code",
     "collapsed": false,
     "input": [
      "c.close()\n",
      "conn.commit()"
     ],
     "language": "python",
     "metadata": {},
     "outputs": [],
     "prompt_number": 67
    },
    {
     "cell_type": "code",
     "collapsed": false,
     "input": [],
     "language": "python",
     "metadata": {},
     "outputs": []
    }
   ],
   "metadata": {}
  }
 ]
}